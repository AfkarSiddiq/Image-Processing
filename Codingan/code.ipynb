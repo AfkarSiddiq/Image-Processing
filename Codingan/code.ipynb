{
 "cells": [
  {
   "cell_type": "markdown",
   "metadata": {},
   "source": [
    "Membuat gambar menjadi GrayScale"
   ]
  },
  {
   "cell_type": "code",
   "execution_count": 10,
   "metadata": {},
   "outputs": [
    {
     "data": {
      "text/plain": [
       "True"
      ]
     },
     "execution_count": 10,
     "metadata": {},
     "output_type": "execute_result"
    }
   ],
   "source": [
    "import matplotlib, cv2\n",
    "import matplotlib.pyplot as plt\n",
    "\n",
    "foto1 = cv2.imread('Foto1.png')\n",
    "foto1_grayScale = cv2.cvtColor(foto1, cv2.COLOR_BGR2GRAY)\n",
    "foto2 = cv2.imread('Foto2.jpg')\n",
    "foto2_grayScale = cv2.cvtColor(foto2, cv2.COLOR_BGR2GRAY)\n",
    "foto3 = cv2.imread('Foto3.jpeg')\n",
    "foto3_grayScale = cv2.cvtColor(foto3, cv2.COLOR_BGR2GRAY)\n",
    "\n",
    "cv2.imwrite('foto1_grayScale.jpg', foto1_grayScale)\n",
    "cv2.imwrite('foto2_grayScale.jpg', foto2_grayScale)\n",
    "cv2.imwrite('foto3_grayScale.jpg', foto3_grayScale)\n",
    "\n"
   ]
  },
  {
   "cell_type": "code",
   "execution_count": 12,
   "metadata": {},
   "outputs": [
    {
     "ename": "error",
     "evalue": "OpenCV(4.6.0) D:\\a\\opencv-python\\opencv-python\\opencv\\modules\\imgproc\\src\\histogram.cpp:3440: error: (-215:Assertion failed) _src.type() == CV_8UC1 in function 'cv::equalizeHist'\n",
     "output_type": "error",
     "traceback": [
      "\u001b[1;31m---------------------------------------------------------------------------\u001b[0m",
      "\u001b[1;31merror\u001b[0m                                     Traceback (most recent call last)",
      "\u001b[1;32mc:\\Users\\PC\\PengolahanCitra\\Image-Processing\\Codingan\\code.ipynb Cell 3\u001b[0m in \u001b[0;36m<cell line: 2>\u001b[1;34m()\u001b[0m\n\u001b[0;32m      <a href='vscode-notebook-cell:/c%3A/Users/PC/PengolahanCitra/Image-Processing/Codingan/code.ipynb#W2sZmlsZQ%3D%3D?line=0'>1</a>\u001b[0m \u001b[39m#make an equalize histogram\u001b[39;00m\n\u001b[1;32m----> <a href='vscode-notebook-cell:/c%3A/Users/PC/PengolahanCitra/Image-Processing/Codingan/code.ipynb#W2sZmlsZQ%3D%3D?line=1'>2</a>\u001b[0m foto1_equalize \u001b[39m=\u001b[39m cv2\u001b[39m.\u001b[39;49mequalizeHist(foto1)\n\u001b[0;32m      <a href='vscode-notebook-cell:/c%3A/Users/PC/PengolahanCitra/Image-Processing/Codingan/code.ipynb#W2sZmlsZQ%3D%3D?line=2'>3</a>\u001b[0m cv2\u001b[39m.\u001b[39mimshow(\u001b[39m'\u001b[39m\u001b[39mfoto1_equalize\u001b[39m\u001b[39m'\u001b[39m, foto1_equalize)\n\u001b[0;32m      <a href='vscode-notebook-cell:/c%3A/Users/PC/PengolahanCitra/Image-Processing/Codingan/code.ipynb#W2sZmlsZQ%3D%3D?line=3'>4</a>\u001b[0m cv2\u001b[39m.\u001b[39mwaitKey(\u001b[39m0\u001b[39m)\n",
      "\u001b[1;31merror\u001b[0m: OpenCV(4.6.0) D:\\a\\opencv-python\\opencv-python\\opencv\\modules\\imgproc\\src\\histogram.cpp:3440: error: (-215:Assertion failed) _src.type() == CV_8UC1 in function 'cv::equalizeHist'\n"
     ]
    }
   ],
   "source": [
    "#make an equalize histogram\n",
    "foto1_equalize = cv2.equalizeHist(foto1)\n",
    "cv2.imshow('foto1_equalize', foto1_equalize)\n",
    "cv2.waitKey(0)\n",
    "cv2.destroyAllWindows()"
   ]
  }
 ],
 "metadata": {
  "kernelspec": {
   "display_name": "Python 3 (ipykernel)",
   "language": "python",
   "name": "python3"
  },
  "language_info": {
   "codemirror_mode": {
    "name": "ipython",
    "version": 3
   },
   "file_extension": ".py",
   "mimetype": "text/x-python",
   "name": "python",
   "nbconvert_exporter": "python",
   "pygments_lexer": "ipython3",
   "version": "3.10.2"
  },
  "vscode": {
   "interpreter": {
    "hash": "e593ac106456af50ce7af38f9671c411b49d6cd90f9b885e167f0f594e09038c"
   }
  }
 },
 "nbformat": 4,
 "nbformat_minor": 2
}
